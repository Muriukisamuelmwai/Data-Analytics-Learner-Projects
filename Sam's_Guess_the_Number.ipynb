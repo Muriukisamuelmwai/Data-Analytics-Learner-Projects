{
  "nbformat": 4,
  "nbformat_minor": 0,
  "metadata": {
    "colab": {
      "provenance": []
    },
    "kernelspec": {
      "name": "python3",
      "display_name": "Python 3"
    },
    "language_info": {
      "name": "python"
    }
  },
  "cells": [
    {
      "cell_type": "markdown",
      "source": [
        "# Step 1: Import the random module to generate random numbers"
      ],
      "metadata": {
        "id": "z1ltMWtos4WX"
      }
    },
    {
      "cell_type": "code",
      "source": [
        "import random"
      ],
      "metadata": {
        "id": "mvGJ0IbPuZDl"
      },
      "execution_count": null,
      "outputs": []
    },
    {
      "cell_type": "markdown",
      "source": [
        "# Step 2: Generate a random number between 1 and 100"
      ],
      "metadata": {
        "id": "w-KfHnazu5Eq"
      }
    },
    {
      "cell_type": "code",
      "source": [
        "secret_number = random.randint(1, 100)"
      ],
      "metadata": {
        "id": "UenlsP6pvDyb"
      },
      "execution_count": null,
      "outputs": []
    },
    {
      "cell_type": "markdown",
      "source": [
        "# Step 3: Print a welcome message"
      ],
      "metadata": {
        "id": "3-SSyHE1vZsL"
      }
    },
    {
      "cell_type": "code",
      "source": [
        "print(\"Welcome to the Guess the Number game!\")\n",
        "print(\"I'm thinking of a number between 1 and 100. Can you guess what it is?\")"
      ],
      "metadata": {
        "colab": {
          "base_uri": "https://localhost:8080/"
        },
        "id": "55RGe-LMvhKb",
        "outputId": "bd084b83-5743-4b4e-debd-cc17a35ddabc"
      },
      "execution_count": null,
      "outputs": [
        {
          "output_type": "stream",
          "name": "stdout",
          "text": [
            "Welcome to the Guess the Number game!\n",
            "I'm thinking of a number between 1 and 100. Can you guess what it is?\n"
          ]
        }
      ]
    },
    {
      "cell_type": "markdown",
      "source": [
        "# Step 4: Use a while loop to keep asking until the player guesses correctly"
      ],
      "metadata": {
        "id": "AQph1ns_v1Xe"
      }
    },
    {
      "cell_type": "code",
      "source": [
        "while True:\n",
        "    # Prompt the user to enter their guess\n",
        "    guess = input(\"Enter your guess: \")\n",
        "\n",
        "    # Convert the guess from string to integer\n",
        "    guess = int(guess)\n",
        "\n",
        "    # Step 5: Compare the guess with the secret number\n",
        "    if guess < secret_number:\n",
        "        print(\"Your guess is too low. Guess again.\")\n",
        "    elif guess > secret_number:\n",
        "        print(\"Your guess is too high. Guess again.\")\n",
        "    else:\n",
        "        # Correct guess\n",
        "        print(\"🎉 Congratulations! You guessed the number correctly!\")\n",
        "        break   # Exit the loop once guessed correctly"
      ],
      "metadata": {
        "colab": {
          "base_uri": "https://localhost:8080/"
        },
        "id": "wksirBdtxt8c",
        "outputId": "3c3af286-b01a-4c39-be36-f0b7f29289ba"
      },
      "execution_count": null,
      "outputs": [
        {
          "output_type": "stream",
          "name": "stdout",
          "text": [
            "Enter your guess: 78\n",
            "Your guess is too high. Guess again.\n",
            "Enter your guess: 65\n",
            "Your guess is too high. Guess again.\n",
            "Enter your guess: 43\n",
            "Your guess is too high. Guess again.\n",
            "Enter your guess: 35\n",
            "Your guess is too low. Guess again.\n",
            "Enter your guess: 38\n",
            "Your guess is too low. Guess again.\n",
            "Enter your guess: 40\n",
            "Your guess is too high. Guess again.\n",
            "Enter your guess: 39\n",
            "🎉 Congratulations! You guessed the number correctly!\n"
          ]
        }
      ]
    }
  ]
}